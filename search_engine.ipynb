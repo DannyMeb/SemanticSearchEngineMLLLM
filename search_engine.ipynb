{
 "cells": [
  {
   "cell_type": "code",
   "execution_count": null,
   "metadata": {},
   "outputs": [],
   "source": [
    "import os\n",
    "import json\n",
    "import numpy as np\n",
    "import pandas as pd\n",
    "import matplotlib.pyplot as plt\n",
    "from sklearn.feature_extraction.text import TfidfVectorizer\n",
    "from sklearn.metrics import cosine_similarity\n",
    "from sklearn.decomposition import PCA\n",
    "import seaborn as sns\n",
    "import nltk\n",
    "from nltk.corpus import stopwords\n",
    "from nltk.stem import PorterStemmer\n",
    "from nltk.tokenize import RegexpTokenizer\n",
    "import random\n"
   ]
  },
  {
   "cell_type": "code",
   "execution_count": null,
   "metadata": {},
   "outputs": [],
   "source": [
    "nltk.download('stopwords')\n",
    "\n",
    "def load_articles(data_folder):\n",
    "    articles = []\n",
    "    for filename in os.listdir(data_folder):\n",
    "        if filename.endswith('.json') and 'articles_data' in filename:\n",
    "            with open(os.path.join(data_folder, filename), 'r') as file:\n",
    "                data = json.load(file)\n",
    "                articles.extend(data)\n",
    "    return articles\n",
    "\n",
    "def preprocess(text):\n",
    "    tokenizer = RegexpTokenizer(r'\\w+')\n",
    "    stemmer = PorterStemmer()\n",
    "    stop_words = set(stopwords.words('english'))\n",
    "    tokens = tokenizer.tokenize(text.lower())\n",
    "    stemmed_words = [stemmer.stem(word) for word in tokens if word not in stop_words]\n",
    "    return ' '.join(stemmed_words)\n",
    "\n",
    "def load_ground_truth(filepath):\n",
    "    with open(filepath, 'r') as file:\n",
    "        ground_truth = json.load(file)\n",
    "    return ground_truth\n"
   ]
  }
 ],
 "metadata": {
  "language_info": {
   "name": "python"
  }
 },
 "nbformat": 4,
 "nbformat_minor": 2
}
